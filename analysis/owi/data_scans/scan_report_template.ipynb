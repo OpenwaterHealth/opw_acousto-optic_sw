{
 "cells": [
  {
   "cell_type": "code",
   "execution_count": null,
   "metadata": {
    "ExecuteTime": {
     "end_time": "2019-05-07T00:01:23.771250Z",
     "start_time": "2019-05-07T00:01:17.621084Z"
    }
   },
   "outputs": [],
   "source": [
    "%matplotlib inline\n",
    "\n",
    "import subprocess\n",
    "import os\n",
    "\n",
    "import json\n",
    "import pandas as pd\n",
    "\n",
    "import numpy as np \n",
    "import matplotlib.pyplot as plt\n",
    "\n",
    "from scipy.io import loadmat\n",
    "\n",
    "from owi.visualization import matplotlib_helpers\n",
    "from owi.data_scans import utils_data\n",
    "\n",
    "from owi.data_scans import CONFIG_FILENAME\n",
    "\n",
    "# dir_path = os.path.dirname(os.path.realpath(__file__))\n",
    "# CONFIG_FILENAME = os.path.join(dir_path, 'config_ipynb')"
   ]
  },
  {
   "cell_type": "markdown",
   "metadata": {},
   "source": [
    "# Load Scan data\n",
    "\n",
    "- Mat file:\n",
    "    - processedValueMap3D is the signal from the ROI\n",
    "    - referenceVoltageMap3D is the voltage form the photodiode reading from the reference beam (after AOM's)\n",
    "    - objectVoltageMap3D is the photodiode voltage read from the laser beam."
   ]
  },
  {
   "cell_type": "code",
   "execution_count": null,
   "metadata": {},
   "outputs": [],
   "source": [
    "with open(CONFIG_FILENAME,'r') as f:\n",
    "    f_folder = f.read()\n",
    "    \n",
    "print('Data folder: %s'%f_folder)"
   ]
  },
  {
   "cell_type": "code",
   "execution_count": null,
   "metadata": {},
   "outputs": [],
   "source": [
    "f_dict = utils_data.get_data_files(f_folder)\n",
    "\n",
    "f_mat = f_dict['f_mat']\n",
    "f_json = f_dict['f_meta']\n",
    "f_csv = f_dict['f_csv']\n",
    "\n",
    "f_dict"
   ]
  },
  {
   "cell_type": "code",
   "execution_count": null,
   "metadata": {},
   "outputs": [],
   "source": [
    "f_data = loadmat(f_mat)\n",
    "f_data.keys()"
   ]
  },
  {
   "cell_type": "code",
   "execution_count": null,
   "metadata": {},
   "outputs": [],
   "source": [
    "inten_meas = f_data['processedValueMap3D']\n",
    "inten_laser = f_data['objectVoltageMap3D']\n",
    "inten_reference = f_data['referenceVoltageMap3D']"
   ]
  },
  {
   "cell_type": "code",
   "execution_count": null,
   "metadata": {},
   "outputs": [],
   "source": [
    "inten_meas.shape"
   ]
  },
  {
   "cell_type": "code",
   "execution_count": null,
   "metadata": {},
   "outputs": [],
   "source": [
    "with open(f_json) as f:\n",
    "    d_json = json.load(f)"
   ]
  },
  {
   "cell_type": "code",
   "execution_count": null,
   "metadata": {},
   "outputs": [],
   "source": [
    "d_json"
   ]
  },
  {
   "cell_type": "code",
   "execution_count": null,
   "metadata": {
    "scrolled": false
   },
   "outputs": [],
   "source": [
    "plt.figure()\n",
    "plt.plot(inten_meas.ravel())\n",
    "plt.title('Raw ROI processed value from 3D array')\n",
    "\n",
    "# plt.figure()\n",
    "# plt.plot(inten_laser.ravel())"
   ]
  },
  {
   "cell_type": "markdown",
   "metadata": {},
   "source": [
    "# Plot in 3D"
   ]
  },
  {
   "cell_type": "code",
   "execution_count": null,
   "metadata": {},
   "outputs": [],
   "source": [
    "from mayavi import mlab \n",
    "from owi.visualization import mayavi_utils\n",
    "# mlab.init_notebook()"
   ]
  },
  {
   "cell_type": "markdown",
   "metadata": {},
   "source": [
    "## Generate 3D corrdinates\n",
    "\n",
    "From JSON file"
   ]
  },
  {
   "cell_type": "code",
   "execution_count": null,
   "metadata": {},
   "outputs": [],
   "source": [
    "# xyz_3d = np.mgrid[0:d_json['XMax (mm)']+d_json['XStepSize (mm)']:d_json['XStepSize (mm)'], \n",
    "#          0:d_json['YMax (mm)']:d_json['YStepSize (mm)'],\n",
    "#          0:d_json['ZMax (mm)']+d_json['ZStepSize (mm)']:d_json['ZStepSize (mm)']]\n",
    "\n",
    "shape = inten_meas.shape\n",
    "if 'XMax (mm)' in d_json:\n",
    "    xyz_max = [d_json['XMax (mm)'], d_json['YMax (mm)'], d_json['ZMax (mm)'], ]\n",
    "elif 'scanParameters' in d_json:\n",
    "    if 'xMax_mm' in d_json['scanParameters']:\n",
    "        xyz_max = [d_json['scanParameters']['xMax_mm'], \n",
    "                   d_json['scanParameters']['yMax_mm'], \n",
    "                   d_json['scanParameters']['zMax_mm'], ]\n",
    "    else:\n",
    "        xyz_max = [d_json['scanParameters']['xLength_mm'], \n",
    "                   d_json['scanParameters']['yLength_mm'], \n",
    "                   d_json['scanParameters']['zLength_mm'], ]\n",
    "\n",
    "xyz_3d = np.mgrid[0:xyz_max[0]:shape[0]*1j, \n",
    "             0:xyz_max[1]:shape[1]*1j,\n",
    "             0:xyz_max[2]:shape[2]*1j]"
   ]
  },
  {
   "cell_type": "code",
   "execution_count": null,
   "metadata": {},
   "outputs": [],
   "source": [
    "xyz_3d.shape, inten_meas.shape"
   ]
  },
  {
   "cell_type": "code",
   "execution_count": null,
   "metadata": {},
   "outputs": [],
   "source": [
    "mlab.figure(size=(800,700))"
   ]
  },
  {
   "cell_type": "code",
   "execution_count": null,
   "metadata": {
    "scrolled": false
   },
   "outputs": [],
   "source": [
    "mlab.clf()\n",
    "mlab.contour3d(xyz_3d[0], xyz_3d[1], xyz_3d[2], inten_meas, contours=10, opacity=.5)\n",
    "mlab.colorbar()\n",
    "mlab.axes()\n",
    "\n",
    "mayavi_utils.inline(stop=False)\n",
    "\n",
    "eng = mlab.get_engine()\n",
    "scene = eng.scenes[0]\n",
    "scene.scene.parallel_projection = True\n",
    "\n",
    "scene.scene.x_minus_view()\n",
    "mayavi_utils.inline(stop=False)\n",
    "\n",
    "scene.scene.y_minus_view()\n",
    "mayavi_utils.inline(stop=False)\n",
    "\n",
    "scene.scene.z_minus_view()\n",
    "mayavi_utils.inline(stop=False)"
   ]
  },
  {
   "cell_type": "code",
   "execution_count": null,
   "metadata": {
    "scrolled": false
   },
   "outputs": [],
   "source": [
    "mlab.clf()\n",
    "mlab.contour3d(xyz_3d[0], xyz_3d[1], xyz_3d[2], -inten_meas, contours=10, opacity=.5)\n",
    "mlab.colorbar()\n",
    "mlab.axes()\n",
    "\n",
    "mayavi_utils.inline(stop=False)\n",
    "\n",
    "eng = mlab.get_engine()\n",
    "scene = eng.scenes[0]\n",
    "scene.scene.parallel_projection = True\n",
    "\n",
    "scene.scene.x_minus_view()\n",
    "mayavi_utils.inline(stop=False)\n",
    "\n",
    "scene.scene.y_minus_view()\n",
    "mayavi_utils.inline(stop=False)\n",
    "\n",
    "scene.scene.z_minus_view()\n",
    "mayavi_utils.inline(stop=False)"
   ]
  },
  {
   "cell_type": "code",
   "execution_count": null,
   "metadata": {},
   "outputs": [],
   "source": [
    "fig, axs = matplotlib_helpers.plot_projections(xyz_3d, inten_meas, proj_fn='min', unit_str=' mm',)\n",
    "fig.set_size_inches(7,12)"
   ]
  },
  {
   "cell_type": "code",
   "execution_count": null,
   "metadata": {},
   "outputs": [],
   "source": [
    "fig, axs = matplotlib_helpers.plot_projections(xyz_3d, inten_meas, proj_fn='max', unit_str=' mm',)\n",
    "fig.set_size_inches(7,12)"
   ]
  },
  {
   "cell_type": "markdown",
   "metadata": {},
   "source": [
    "# Load list mode data\n",
    "\n",
    "This data contains a list of all measurement points and positions of the ultrasound. "
   ]
  },
  {
   "cell_type": "markdown",
   "metadata": {},
   "source": [
    "### Plot raw values"
   ]
  },
  {
   "cell_type": "code",
   "execution_count": null,
   "metadata": {
    "scrolled": false
   },
   "outputs": [],
   "source": [
    "if f_csv is not None:\n",
    "    d_listmode = pd.read_csv(f_csv)\n",
    "    d_listmode.plot(subplots=True, figsize=(10,10));\n",
    "    d_listmode[:10]\n",
    "else:\n",
    "    print(\"WARNING: no CSV file\")"
   ]
  },
  {
   "cell_type": "markdown",
   "metadata": {},
   "source": [
    "# Plot all layers\n",
    "This will show all the different z-planes for this scan"
   ]
  },
  {
   "cell_type": "code",
   "execution_count": null,
   "metadata": {},
   "outputs": [],
   "source": [
    "folder_render = 'generated'\n",
    "try:\n",
    "    os.mkdir(folder_render)\n",
    "except FileExistsError:\n",
    "    pass"
   ]
  },
  {
   "cell_type": "code",
   "execution_count": null,
   "metadata": {
    "scrolled": false
   },
   "outputs": [],
   "source": [
    "n_layer = inten_meas.shape[2]\n",
    "\n",
    "for i in range(n_layer):\n",
    "    plt.figure()\n",
    "    plt.pcolormesh(xyz_3d[0,:,:,0], xyz_3d[1,:,:,0], inten_meas[:,:,i], \n",
    "                   vmax=inten_meas.max(), vmin=inten_meas.min(), \n",
    "                  cmap='bone')\n",
    "    plt.colorbar()\n",
    "    plt.title('z ind = %d'%(i))\n",
    "    plt.xlabel('x mm')\n",
    "    plt.ylabel('y mm')\n",
    "    plt.savefig(folder_render + '/testFig%d.png'%i)\n",
    "    plt.savefig(folder_render + '/testFig%d.png'%(2*n_layer-i-1))"
   ]
  },
  {
   "cell_type": "code",
   "execution_count": null,
   "metadata": {},
   "outputs": [],
   "source": [
    "# generate animations\n",
    "call_str = 'ffmpeg -y -r 8 -i {folder}/testFig%d.png {folder}/anim_{}.gif -b:v 10M'.format(f_folder.split('/')[-2], folder=folder_render)\n",
    "out = subprocess.call(call_str.split())\n",
    "\n",
    "call_str = 'ffmpeg -y -r 8 -i {folder}/testFig%d.png -vcodec libx264 -crf 25 -pix_fmt yuv420p {folder}/anim_{}.mp4'.format(f_folder.split('/')[-2], folder=folder_render)\n",
    "out = subprocess.call(call_str.split())\n",
    "\n"
   ]
  }
 ],
 "metadata": {
  "kernelspec": {
   "display_name": "owi",
   "language": "python",
   "name": "owi"
  },
  "language_info": {
   "codemirror_mode": {
    "name": "ipython",
    "version": 3
   },
   "file_extension": ".py",
   "mimetype": "text/x-python",
   "name": "python",
   "nbconvert_exporter": "python",
   "pygments_lexer": "ipython3",
   "version": "3.6.7"
  },
  "toc": {
   "base_numbering": 1,
   "nav_menu": {},
   "number_sections": true,
   "sideBar": true,
   "skip_h1_title": false,
   "title_cell": "Table of Contents",
   "title_sidebar": "Contents",
   "toc_cell": false,
   "toc_position": {},
   "toc_section_display": true,
   "toc_window_display": false
  },
  "widgets": {
   "application/vnd.jupyter.widget-state+json": {
    "state": {},
    "version_major": 2,
    "version_minor": 0
   }
  }
 },
 "nbformat": 4,
 "nbformat_minor": 2
}
