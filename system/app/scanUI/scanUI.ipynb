{
 "cells": [
  {
   "cell_type": "code",
   "execution_count": 1,
   "metadata": {},
   "outputs": [],
   "source": [
    "# Scanner\n",
    "%matplotlib widget\n",
    "\n",
    "import os\n",
    "import scanner"
   ]
  },
  {
   "cell_type": "code",
   "execution_count": 2,
   "metadata": {},
   "outputs": [
    {
     "name": "stdout",
     "output_type": "stream",
     "text": [
      "WARNING: No aligner app found at ../../../system/scanner/x64/Release/fftutilExplora.exe\n",
      "WARNING: No scanner app found at ../../../system/scanner/x64/Release/OpenwaterScanningSystem_Pulsed.exe; using fake scanner.\n",
      "WARNING: No bloodflow scanner app found at ../../util/fftutil/msvc/x64/Release/saveImages.exe\n",
      "WARNING: No ultrasound scanner app found at ../../../system/scanner/USscanner/x64/Release/USscanner.exe\n",
      "INFO: Scan data found at /Users/brad/Openwater/scan/data_scans/\n"
     ]
    }
   ],
   "source": [
    "# Configuration\n",
    "\n",
    "# Where's the aligner app?\n",
    "alignerPath = '../../../system/scanner/x64/Release/fftutilExplora.exe'\n",
    "if not os.path.exists(alignerPath):\n",
    "  print('WARNING: No aligner app found at', alignerPath)\n",
    "\n",
    "# Where's the scanner app?\n",
    "scannerExe = '../../../system/scanner/x64/Release/OpenwaterScanningSystem_Pulsed.exe'\n",
    "bloodflowScannerExe = '../../util/fftutil/msvc/x64/Release/saveImages.exe'\n",
    "ultrasoundScannerExe = '../../../system/scanner/USscanner/x64/Release/USscanner.exe'\n",
    "if os.path.exists(scannerExe):\n",
    "  scannerArgs = [ scannerExe, ]  # Real scanner; additional args appended later\n",
    "else:\n",
    "  print('WARNING: No scanner app found at %s; using fake scanner.' % scannerExe)\n",
    "  scannerArgs = ['python', 'scan.py']  # Fake scanner\n",
    "if os.path.exists(bloodflowScannerExe):\n",
    "  bloodflowScannerArgs = [ bloodflowScannerExe, ]  # Real bloodflow scanner; additional args appended later\n",
    "else:\n",
    "  print('WARNING: No bloodflow scanner app found at %s' % bloodflowScannerExe)\n",
    "  bloodflowScannerArgs = []\n",
    "if os.path.exists(ultrasoundScannerExe):\n",
    "  ultrasoundScannerArgs = [ ultrasoundScannerExe, ]\n",
    "else:\n",
    "  print('WARNING: No ultrasound scanner app found at %s' % ultrasoundScannerExe)\n",
    "  ultrasoundScannerArgs = []\n",
    "\n",
    "# Where's the scan data?\n",
    "user = os.getenv('USER')\n",
    "scanDirs = [\n",
    "    # 'G:/Shared drives/OpenwaterTeam/data/data_scans/',          # If connected to DriveStream\n",
    "    '/Users/brad/Openwater/scan/data_scans/',\n",
    "    'C:/data_scans_2020/', 'C:/data_scans/', 'D:/data_scans/',    # Covers all scanners\n",
    "    ('/Users/%s/Resilio Sync/data_scans/' % user),                # Typical for Mac dev\n",
    "    ('C:/Users/%s/ResilioSync/data_scans/' % user),               # Typical for Win dev\n",
    "    ('/Users/%s/src/openwater_imaging/data/data_scans/' % user),  # For testing within repo\n",
    "]\n",
    "scanDir = None\n",
    "for d in scanDirs:\n",
    "  if os.path.exists(d):\n",
    "    print('INFO: Scan data found at', d)\n",
    "    scanDir = d\n",
    "    break\n",
    "if not scanDir:\n",
    "  print('ERROR: No scan data directory found.')"
   ]
  },
  {
   "cell_type": "code",
   "execution_count": 3,
   "metadata": {
    "scrolled": true
   },
   "outputs": [
    {
     "name": "stdout",
     "output_type": "stream",
     "text": [
      "/Users/brad/Openwater/scan/data_scans/\n"
     ]
    },
    {
     "data": {
      "application/vnd.jupyter.widget-view+json": {
       "model_id": "c575b7294dca4998b372998e02d7f5e0",
       "version_major": 2,
       "version_minor": 0
      },
      "text/plain": [
       "Tab(children=(VBox(children=(Dropdown(description='System Type', index=7, options=('Curie System', 'Dussik Sys…"
      ]
     },
     "metadata": {},
     "output_type": "display_data"
    }
   ],
   "source": [
    "the_scanner = scanner.Scanner(scanDir, alignerPath, scannerArgs, bloodflowScannerArgs, ultrasoundScannerArgs)\n",
    "\n",
    "the_scanner.tabs"
   ]
  },
  {
   "cell_type": "code",
   "execution_count": 4,
   "metadata": {},
   "outputs": [],
   "source": [
    "# To run multi pressure scans, fill out the information for a scan as usual in the scanUI\n",
    "# Do not click \"scan\"\n",
    "# Instead, uncomment the 2 lines below, and edit the voltages you are interested in\n",
    "# To run the scan, press shift-enter in this cell\n",
    "\n",
    "#voltages = [.1, .2, .4]\n",
    "#the_scanner.run_multipressure(voltages, plot_scans = True)"
   ]
  }
 ],
 "metadata": {
  "celltoolbar": "Raw Cell Format",
  "kernelspec": {
   "display_name": "Python 3",
   "language": "python",
   "name": "python3"
  },
  "language_info": {
   "codemirror_mode": {
    "name": "ipython",
    "version": 3
   },
   "file_extension": ".py",
   "mimetype": "text/x-python",
   "name": "python",
   "nbconvert_exporter": "python",
   "pygments_lexer": "ipython3",
   "version": "3.8.8"
  }
 },
 "nbformat": 4,
 "nbformat_minor": 2
}
